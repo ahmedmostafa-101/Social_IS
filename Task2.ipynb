{
 "cells": [
  {
   "cell_type": "code",
   "execution_count": 1,
   "id": "922c4f4e",
   "metadata": {},
   "outputs": [],
   "source": [
    "import networkx as nx"
   ]
  },
  {
   "cell_type": "code",
   "execution_count": 2,
   "id": "48a38d34",
   "metadata": {},
   "outputs": [],
   "source": [
    "##EXERCISE 1\n",
    "##Write a function named get_leaves that takes a graph as an argument,\n",
    "##loops through the nodes, and returns a list of nodes with degree 1.\n",
    "\n",
    "def get_leaves(G):\n",
    "    res=[]\n",
    "    for n in G.nodes():\n",
    "        if G.degree(n)==1:\n",
    "            res+=[n]\n",
    "    return res\n",
    "\n",
    "G = nx.Graph()\n",
    "G.add_edges_from([\n",
    "        ('a', 'b'),\n",
    "        ('a', 'd'),\n",
    "        ('c', 'd'),\n",
    "    ])"
   ]
  },
  {
   "cell_type": "code",
   "execution_count": 3,
   "id": "f9c53334",
   "metadata": {},
   "outputs": [
    {
     "name": "stdout",
     "output_type": "stream",
     "text": [
      "['a', 'b', 'd', 'c']\n",
      "[2, 1, 2, 1]\n"
     ]
    }
   ],
   "source": [
    "print(G.nodes())\n",
    "print([G.degree(n) for n in G.nodes()])"
   ]
  },
  {
   "cell_type": "code",
   "execution_count": 4,
   "id": "fd8d7005",
   "metadata": {},
   "outputs": [
    {
     "name": "stdout",
     "output_type": "stream",
     "text": [
      "['b', 'c']\n"
     ]
    }
   ],
   "source": [
    "list_of_nodes=get_leaves(G)\n",
    "print(list_of_nodes)"
   ]
  },
  {
   "cell_type": "code",
   "execution_count": 5,
   "id": "d0011d10",
   "metadata": {},
   "outputs": [],
   "source": [
    "##EXERCISE 2\n",
    "##Write a function max_degree that takes a graph as its argument,\n",
    "##and returns a 2-tuple with the name and degree of the node with highest degree.\n",
    "\n",
    "def max_degree(G):\n",
    "    res=()\n",
    "    maxx=max([G.degree(n) for n in G.nodes()])\n",
    "    for n in G.nodes():\n",
    "        if G.degree(n)==maxx:\n",
    "            node_name=n\n",
    "            node_degree=G.degree(n)\n",
    "            res+=(node_name,node_degree)\n",
    "    return res\n",
    "\n",
    "G1 = nx.Graph()\n",
    "G1.add_edges_from([\n",
    "        ('a', 'b'),\n",
    "        ('a', 'd'),\n",
    "        ('c', 'd'),\n",
    "        ('c', 'b'),\n",
    "        ('a', 'c'),\n",
    "        ('a', 'e'),\n",
    "    ])"
   ]
  },
  {
   "cell_type": "code",
   "execution_count": 7,
   "id": "6eb3e7d0",
   "metadata": {},
   "outputs": [
    {
     "name": "stdout",
     "output_type": "stream",
     "text": [
      "['a', 'b', 'd', 'c', 'e']\n",
      "[4, 2, 2, 3, 1]\n"
     ]
    }
   ],
   "source": [
    "print(G1.nodes())\n",
    "print([G1.degree(n) for n in G1.nodes()])"
   ]
  },
  {
   "cell_type": "code",
   "execution_count": 8,
   "id": "ecd95799",
   "metadata": {},
   "outputs": [
    {
     "name": "stdout",
     "output_type": "stream",
     "text": [
      "('a', 4)\n"
     ]
    }
   ],
   "source": [
    "max_node=max_degree(G1)\n",
    "print(max_node)"
   ]
  },
  {
   "cell_type": "code",
   "execution_count": 9,
   "id": "dc69561d",
   "metadata": {},
   "outputs": [
    {
     "data": {
      "image/png": "[encoded data removed]",
      "text/plain": [
       "<Figure size 432x288 with 1 Axes>"
      ]
     },
     "metadata": {},
     "output_type": "display_data"
    }
   ],
   "source": [
    "##EXERCISE 3\n",
    "##Write a function mutual_friends that takes a graph and two nodes as arguments,\n",
    "##and returns a list (or set) of nodes that are linked to both given nodes\n",
    "\n",
    "def mutual_friends(G, node_1, node_2):\n",
    "    mutual=[]\n",
    "    for neighbor1 in G.neighbors(node_1):\n",
    "        for neighbor2 in G.neighbors(node_2):\n",
    "            if neighbor1==neighbor2:\n",
    "                mutual+=neighbor1\n",
    "    return mutual\n",
    "\n",
    "G2 = nx.Graph()\n",
    "G2.add_edges_from([\n",
    "        ('a', 'b'),\n",
    "        ('a', 'd'),\n",
    "        ('c', 'd'),\n",
    "        ('c', 'b'),\n",
    "        ('a', 'c'),\n",
    "        ('a', 'e'),\n",
    "    ])\n",
    "nx.draw(G2,with_labels=True,\n",
    "        node_color='teal',\n",
    "        node_size=1600,\n",
    "        font_color='white',\n",
    "        font_size=16,)"
   ]
  },
  {
   "cell_type": "code",
   "execution_count": 12,
   "id": "cdef4662",
   "metadata": {},
   "outputs": [
    {
     "data": {
      "text/plain": [
       "['b', 'd', 'c', 'e']"
      ]
     },
     "execution_count": 12,
     "metadata": {},
     "output_type": "execute_result"
    }
   ],
   "source": [
    "list(G2.neighbors('a'))"
   ]
  },
  {
   "cell_type": "code",
   "execution_count": 13,
   "id": "2501b25a",
   "metadata": {},
   "outputs": [
    {
     "data": {
      "text/plain": [
       "['d', 'b', 'a']"
      ]
     },
     "execution_count": 13,
     "metadata": {},
     "output_type": "execute_result"
    }
   ],
   "source": [
    "list(G2.neighbors('c'))"
   ]
  },
  {
   "cell_type": "code",
   "execution_count": 14,
   "id": "7f2d69df",
   "metadata": {},
   "outputs": [
    {
     "name": "stdout",
     "output_type": "stream",
     "text": [
      "['b', 'd']\n"
     ]
    }
   ],
   "source": [
    "print(mutual_friends(G2, 'a', 'c'))"
   ]
  },
  {
   "cell_type": "code",
   "execution_count": null,
   "id": "9a399265",
   "metadata": {},
   "outputs": [],
   "source": []
  }
 ],
 "metadata": {
  "kernelspec": {
   "display_name": "Python 3 (ipykernel)",
   "language": "python",
   "name": "python3"
  },
  "language_info": {
   "codemirror_mode": {
    "name": "ipython",
    "version": 3
   },
   "file_extension": ".py",
   "mimetype": "text/x-python",
   "name": "python",
   "nbconvert_exporter": "python",
   "pygments_lexer": "ipython3",
   "version": "3.9.7"
  }
 },
 "nbformat": 4,
 "nbformat_minor": 5
}
