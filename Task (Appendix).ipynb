{
 "cells": [
  {
   "cell_type": "code",
   "execution_count": 1,
   "id": "1a066931",
   "metadata": {},
   "outputs": [
    {
     "name": "stdout",
     "output_type": "stream",
     "text": [
      "Hello World\n"
     ]
    }
   ],
   "source": [
    "print('Hello World')"
   ]
  },
  {
   "cell_type": "code",
   "execution_count": 2,
   "id": "6ac17c5e",
   "metadata": {},
   "outputs": [
    {
     "name": "stdout",
     "output_type": "stream",
     "text": [
      "Jupyter\n",
      "10\n"
     ]
    }
   ],
   "source": [
    "my_str = 'Jupyter'\n",
    "my_int = 10\n",
    "\n",
    "print(my_str)\n",
    "print(my_int)"
   ]
  },
  {
   "cell_type": "code",
   "execution_count": 3,
   "id": "dadaaa67",
   "metadata": {},
   "outputs": [
    {
     "data": {
      "text/plain": [
       "'Jupyter'"
      ]
     },
     "execution_count": 3,
     "metadata": {},
     "output_type": "execute_result"
    }
   ],
   "source": [
    "my_str"
   ]
  },
  {
   "cell_type": "code",
   "execution_count": 4,
   "id": "d11ae562",
   "metadata": {},
   "outputs": [
    {
     "name": "stdout",
     "output_type": "stream",
     "text": [
      "Jupyter\n",
      "10\n"
     ]
    }
   ],
   "source": [
    "print(my_str)\n",
    "print(my_int)"
   ]
  },
  {
   "cell_type": "code",
   "execution_count": 5,
   "id": "ad450960",
   "metadata": {},
   "outputs": [
    {
     "name": "stdout",
     "output_type": "stream",
     "text": [
      "You have many apples!\n"
     ]
    }
   ],
   "source": [
    "number_of_apples = 5\n",
    "\n",
    "if number_of_apples < 1:\n",
    "    print('You have no apples')\n",
    "elif number_of_apples == 1:\n",
    "    print('You have one apple')\n",
    "elif number_of_apples < 4:\n",
    "    print('You have a few apples')\n",
    "else:\n",
    "    print('You have many apples!')"
   ]
  },
  {
   "cell_type": "code",
   "execution_count": 6,
   "id": "9708c2ea",
   "metadata": {},
   "outputs": [
    {
     "data": {
      "text/plain": [
       "'Ahmed'"
      ]
     },
     "execution_count": 6,
     "metadata": {},
     "output_type": "execute_result"
    }
   ],
   "source": [
    "student_names = ['Ali', 'Ahmed', 'Ola', 'Amr']\n",
    "student_names[1]"
   ]
  },
  {
   "cell_type": "code",
   "execution_count": 8,
   "id": "ae8f1765",
   "metadata": {},
   "outputs": [
    {
     "data": {
      "text/plain": [
       "'Ali'"
      ]
     },
     "execution_count": 8,
     "metadata": {},
     "output_type": "execute_result"
    }
   ],
   "source": [
    "student_names[0]"
   ]
  },
  {
   "cell_type": "code",
   "execution_count": 9,
   "id": "cb11fcae",
   "metadata": {},
   "outputs": [
    {
     "data": {
      "text/plain": [
       "'Amr'"
      ]
     },
     "execution_count": 9,
     "metadata": {},
     "output_type": "execute_result"
    }
   ],
   "source": [
    "student_names[-1]"
   ]
  },
  {
   "cell_type": "code",
   "execution_count": 10,
   "id": "e1fc0661",
   "metadata": {},
   "outputs": [
    {
     "data": {
      "text/plain": [
       "['Ali', 'Ahmed']"
      ]
     },
     "execution_count": 10,
     "metadata": {},
     "output_type": "execute_result"
    }
   ],
   "source": [
    "student_names[0:2]"
   ]
  },
  {
   "cell_type": "code",
   "execution_count": 11,
   "id": "a75ef826",
   "metadata": {},
   "outputs": [
    {
     "data": {
      "text/plain": [
       "['Ahmed', 'Ola']"
      ]
     },
     "execution_count": 11,
     "metadata": {},
     "output_type": "execute_result"
    }
   ],
   "source": [
    "student_names[1:3]"
   ]
  },
  {
   "cell_type": "code",
   "execution_count": 12,
   "id": "e4431f62",
   "metadata": {},
   "outputs": [
    {
     "data": {
      "text/plain": [
       "['Ali', 'Ahmed']"
      ]
     },
     "execution_count": 12,
     "metadata": {},
     "output_type": "execute_result"
    }
   ],
   "source": [
    "student_names[:2]"
   ]
  },
  {
   "cell_type": "code",
   "execution_count": 13,
   "id": "dfab9d86",
   "metadata": {},
   "outputs": [
    {
     "data": {
      "text/plain": [
       "['Ola', 'Amr']"
      ]
     },
     "execution_count": 13,
     "metadata": {},
     "output_type": "execute_result"
    }
   ],
   "source": [
    "student_names[2:]"
   ]
  },
  {
   "cell_type": "code",
   "execution_count": 14,
   "id": "afb48ed2",
   "metadata": {},
   "outputs": [
    {
     "data": {
      "text/plain": [
       "['Ali', 'Ahmed', 'Ola', 'Amr', 'Omar']"
      ]
     },
     "execution_count": 14,
     "metadata": {},
     "output_type": "execute_result"
    }
   ],
   "source": [
    "student_names.append('Omar')\n",
    "student_names"
   ]
  },
  {
   "cell_type": "code",
   "execution_count": 15,
   "id": "13d6625d",
   "metadata": {},
   "outputs": [
    {
     "data": {
      "text/plain": [
       "['Ali', 'Ahmed', 'Taha', 'Ola', 'Amr', 'Omar']"
      ]
     },
     "execution_count": 15,
     "metadata": {},
     "output_type": "execute_result"
    }
   ],
   "source": [
    "student_names.insert(2, 'Taha')\n",
    "student_names"
   ]
  },
  {
   "cell_type": "code",
   "execution_count": 16,
   "id": "506f0050",
   "metadata": {},
   "outputs": [
    {
     "data": {
      "text/plain": [
       "['Ali', 'Ahmed', 'Ola', 'Amr', 'Omar']"
      ]
     },
     "execution_count": 16,
     "metadata": {},
     "output_type": "execute_result"
    }
   ],
   "source": [
    "del student_names[2]\n",
    "student_names"
   ]
  },
  {
   "cell_type": "code",
   "execution_count": 17,
   "id": "9ef1c983",
   "metadata": {},
   "outputs": [
    {
     "data": {
      "text/plain": [
       "['Ali', 'Ahmed', 'Ola', 'Amr', 'Omar', 'Taha', 'Taha']"
      ]
     },
     "execution_count": 17,
     "metadata": {},
     "output_type": "execute_result"
    }
   ],
   "source": [
    "student_names.append('Taha')\n",
    "student_names.append('Taha')\n",
    "student_names"
   ]
  },
  {
   "cell_type": "code",
   "execution_count": 19,
   "id": "af520c5e",
   "metadata": {},
   "outputs": [
    {
     "name": "stdout",
     "output_type": "stream",
     "text": [
      "Hello Ali!\n",
      "Hello Ahmed!\n",
      "Hello Ola!\n",
      "Hello Amr!\n"
     ]
    }
   ],
   "source": [
    "student_names = ['Ali', 'Ahmed', 'Ola', 'Amr']\n",
    "for student_name in student_names:\n",
    "    print('Hello '+student_name+'!')"
   ]
  },
  {
   "cell_type": "code",
   "execution_count": 20,
   "id": "f104da2c",
   "metadata": {},
   "outputs": [
    {
     "data": {
      "text/plain": [
       "['Ahmed']"
      ]
     },
     "execution_count": 20,
     "metadata": {},
     "output_type": "execute_result"
    }
   ],
   "source": [
    "# Initialize an empty list and add to it the\n",
    "# student names containing more than four characters\n",
    "long_names = []\n",
    "for student_name in student_names:\n",
    "    # This is our criterion\n",
    "    if len(student_name) > 4:\n",
    "        long_names.append(student_name)\n",
    "\n",
    "long_names"
   ]
  },
  {
   "cell_type": "code",
   "execution_count": 24,
   "id": "649ff229",
   "metadata": {},
   "outputs": [
    {
     "data": {
      "text/plain": [
       "[('Ali', 'Ali'),\n",
       " ('Ali', 'Ahmed'),\n",
       " ('Ali', 'Ola'),\n",
       " ('Ali', 'Amr'),\n",
       " ('Ahmed', 'Ali'),\n",
       " ('Ahmed', 'Ahmed'),\n",
       " ('Ahmed', 'Ola'),\n",
       " ('Ahmed', 'Amr'),\n",
       " ('Ola', 'Ali'),\n",
       " ('Ola', 'Ahmed'),\n",
       " ('Ola', 'Ola'),\n",
       " ('Ola', 'Amr'),\n",
       " ('Amr', 'Ali'),\n",
       " ('Amr', 'Ahmed'),\n",
       " ('Amr', 'Ola'),\n",
       " ('Amr', 'Amr')]"
      ]
     },
     "execution_count": 24,
     "metadata": {},
     "output_type": "execute_result"
    }
   ],
   "source": [
    "#with duplicate\n",
    "student_names = ['Ali', 'Ahmed', 'Ola', 'Amr']\n",
    "student_pairs = []\n",
    "for student_name_0 in student_names:\n",
    "    for student_name_1 in student_names:\n",
    "        student_pairs.append(\n",
    "            (student_name_0, student_name_1)\n",
    "        )\n",
    "\n",
    "student_pairs"
   ]
  },
  {
   "cell_type": "code",
   "execution_count": 22,
   "id": "adb71daf",
   "metadata": {},
   "outputs": [
    {
     "data": {
      "text/plain": [
       "('Ali', 'Ali')"
      ]
     },
     "execution_count": 22,
     "metadata": {},
     "output_type": "execute_result"
    }
   ],
   "source": [
    "student_pairs[0]"
   ]
  },
  {
   "cell_type": "code",
   "execution_count": 60,
   "id": "77891c34",
   "metadata": {},
   "outputs": [
    {
     "data": {
      "text/plain": [
       "[('Ali', 'Ahmed'),\n",
       " ('Ali', 'Ola'),\n",
       " ('Ali', 'Amr'),\n",
       " ('Ahmed', 'Ali'),\n",
       " ('Ahmed', 'Ola'),\n",
       " ('Ahmed', 'Amr'),\n",
       " ('Ola', 'Ali'),\n",
       " ('Ola', 'Ahmed'),\n",
       " ('Ola', 'Amr'),\n",
       " ('Amr', 'Ali'),\n",
       " ('Amr', 'Ahmed'),\n",
       " ('Amr', 'Ola')]"
      ]
     },
     "execution_count": 60,
     "metadata": {},
     "output_type": "execute_result"
    }
   ],
   "source": [
    "# without duplicate\n",
    "student_names = ['Ali', 'Ahmed', 'Ola', 'Amr']\n",
    "student_pairs = []\n",
    "for student_name_0 in student_names:\n",
    "    for student_name_1 in student_names:\n",
    "        if student_name_0 != student_name_1: ##\n",
    "            student_pairs.append(\n",
    "                (student_name_0, student_name_1)\n",
    "            )\n",
    "\n",
    "student_pairs"
   ]
  },
  {
   "cell_type": "code",
   "execution_count": 26,
   "id": "51333f8e",
   "metadata": {},
   "outputs": [],
   "source": [
    "foreign_languages = {\n",
    "    'Ahmed': 'Deutsch',\n",
    "    'Ali': 'French',\n",
    "    'Ola': 'Deutsch',\n",
    "    'Amr': 'Italian',\n",
    "}"
   ]
  },
  {
   "cell_type": "code",
   "execution_count": 27,
   "id": "1833e8ca",
   "metadata": {},
   "outputs": [
    {
     "data": {
      "text/plain": [
       "'French'"
      ]
     },
     "execution_count": 27,
     "metadata": {},
     "output_type": "execute_result"
    }
   ],
   "source": [
    "foreign_languages['Ali']"
   ]
  },
  {
   "cell_type": "code",
   "execution_count": 28,
   "id": "cafaa9f1",
   "metadata": {},
   "outputs": [
    {
     "data": {
      "text/plain": [
       "False"
      ]
     },
     "execution_count": 28,
     "metadata": {},
     "output_type": "execute_result"
    }
   ],
   "source": [
    "'Omar' in foreign_languages"
   ]
  },
  {
   "cell_type": "code",
   "execution_count": 29,
   "id": "335b4793",
   "metadata": {},
   "outputs": [
    {
     "data": {
      "text/plain": [
       "True"
      ]
     },
     "execution_count": 29,
     "metadata": {},
     "output_type": "execute_result"
    }
   ],
   "source": [
    "'Amr' in foreign_languages"
   ]
  },
  {
   "cell_type": "code",
   "execution_count": 30,
   "id": "53b28982",
   "metadata": {},
   "outputs": [
    {
     "data": {
      "text/plain": [
       "False"
      ]
     },
     "execution_count": 30,
     "metadata": {},
     "output_type": "execute_result"
    }
   ],
   "source": [
    "'amr' in foreign_languages"
   ]
  },
  {
   "cell_type": "code",
   "execution_count": 31,
   "id": "8588075b",
   "metadata": {},
   "outputs": [
    {
     "data": {
      "text/plain": [
       "{'Ahmed': 'Deutsch',\n",
       " 'Ali': 'French',\n",
       " 'Ola': 'Deutsch',\n",
       " 'Amr': 'Italian',\n",
       " 'Omar': 'French'}"
      ]
     },
     "execution_count": 31,
     "metadata": {},
     "output_type": "execute_result"
    }
   ],
   "source": [
    "# Add an entry that doesn't exist\n",
    "foreign_languages['Omar'] = 'French'\n",
    "foreign_languages"
   ]
  },
  {
   "cell_type": "code",
   "execution_count": 32,
   "id": "1469133d",
   "metadata": {},
   "outputs": [
    {
     "data": {
      "text/plain": [
       "{'Ahmed': 'Deutsch', 'Ali': 'French', 'Ola': 'Deutsch', 'Omar': 'French'}"
      ]
     },
     "execution_count": 32,
     "metadata": {},
     "output_type": "execute_result"
    }
   ],
   "source": [
    "# Delete an entry that exists\n",
    "del foreign_languages['Amr']\n",
    "foreign_languages"
   ]
  },
  {
   "cell_type": "code",
   "execution_count": 33,
   "id": "081fb0b1",
   "metadata": {},
   "outputs": [
    {
     "data": {
      "text/plain": [
       "{'Ahmed': 'Deutsch', 'Ali': 'French', 'Ola': 'Deutsch', 'Omar': 'Italian'}"
      ]
     },
     "execution_count": 33,
     "metadata": {},
     "output_type": "execute_result"
    }
   ],
   "source": [
    "# Change an entry that does exist\n",
    "foreign_languages['Omar'] = 'Italian'\n",
    "foreign_languages"
   ]
  },
  {
   "cell_type": "code",
   "execution_count": 34,
   "id": "b5b2d638",
   "metadata": {},
   "outputs": [
    {
     "name": "stdout",
     "output_type": "stream",
     "text": [
      "Ahmed is taking Deutsch\n",
      "Ali is taking French\n",
      "Ola is taking Deutsch\n",
      "Omar is taking Italian\n"
     ]
    }
   ],
   "source": [
    "for key in foreign_languages:\n",
    "    value = foreign_languages[key]\n",
    "    print(key, 'is taking', value)"
   ]
  },
  {
   "cell_type": "code",
   "execution_count": 35,
   "id": "c84eae76",
   "metadata": {},
   "outputs": [
    {
     "name": "stdout",
     "output_type": "stream",
     "text": [
      "Ahmed is taking Deutsch\n",
      "Ali is taking French\n",
      "Ola is taking Deutsch\n",
      "Omar is taking Italian\n"
     ]
    }
   ],
   "source": [
    "for key, value in foreign_languages.items():\n",
    "    print(key, 'is taking', value)"
   ]
  },
  {
   "cell_type": "code",
   "execution_count": 40,
   "id": "ff09d597",
   "metadata": {},
   "outputs": [
    {
     "name": "stdout",
     "output_type": "stream",
     "text": [
      "Ahmed got a grade of A in Deutsch\n"
     ]
    }
   ],
   "source": [
    "student_grades = ('Ahmed', 'Deutsch', 'A')\n",
    "student_name, subject, grade = student_grades\n",
    "print(student_name, 'got a grade of', grade, 'in', subject)"
   ]
  },
  {
   "cell_type": "code",
   "execution_count": 41,
   "id": "dc44ffb5",
   "metadata": {},
   "outputs": [
    {
     "name": "stdout",
     "output_type": "stream",
     "text": [
      "Ali got a grade of A in French\n"
     ]
    }
   ],
   "source": [
    "record = {\n",
    "    'name': 'Ali',\n",
    "    'subject': 'French',\n",
    "    'grade': 'A',\n",
    "}\n",
    "print(record['name'],\n",
    "      'got a grade of', record['grade'],\n",
    "      'in', record['subject'])"
   ]
  },
  {
   "cell_type": "code",
   "execution_count": 42,
   "id": "80a0ed0a",
   "metadata": {},
   "outputs": [],
   "source": [
    "student_grades = [\n",
    "    ('Ahmed', 'Deutsch', 'A'),\n",
    "    ('Ali', 'French', 'C'),\n",
    "    ('Ola', 'Deutsch', 'B+'),\n",
    "    ('Omar', 'Italian', 'A-'),\n",
    "]"
   ]
  },
  {
   "cell_type": "code",
   "execution_count": 43,
   "id": "5eb409fd",
   "metadata": {},
   "outputs": [
    {
     "data": {
      "text/plain": [
       "('Ali', 'French', 'C')"
      ]
     },
     "execution_count": 43,
     "metadata": {},
     "output_type": "execute_result"
    }
   ],
   "source": [
    "student_grades[1]"
   ]
  },
  {
   "cell_type": "code",
   "execution_count": 44,
   "id": "0701c448",
   "metadata": {},
   "outputs": [
    {
     "data": {
      "text/plain": [
       "'C'"
      ]
     },
     "execution_count": 44,
     "metadata": {},
     "output_type": "execute_result"
    }
   ],
   "source": [
    "student_grades[1][2]"
   ]
  },
  {
   "cell_type": "code",
   "execution_count": 45,
   "id": "6ec9b149",
   "metadata": {},
   "outputs": [
    {
     "data": {
      "text/plain": [
       "[{'name': 'Ahmed', 'subject': 'Deutsch', 'grade': 'A'},\n",
       " {'name': 'Ali', 'subject': 'French', 'grade': 'C'},\n",
       " {'name': 'Ola', 'subject': 'Deutsch', 'grade': 'B+'},\n",
       " {'name': 'Omar', 'subject': 'Italian', 'grade': 'A-'}]"
      ]
     },
     "execution_count": 45,
     "metadata": {},
     "output_type": "execute_result"
    }
   ],
   "source": [
    "student_grade_records = []\n",
    "for student_name, subject, grade in student_grades:\n",
    "    record = {\n",
    "        'name': student_name,\n",
    "        'subject': subject,\n",
    "        'grade': grade,\n",
    "    }\n",
    "    student_grade_records.append(record)\n",
    "    \n",
    "student_grade_records"
   ]
  },
  {
   "cell_type": "code",
   "execution_count": 46,
   "id": "cf295d2c",
   "metadata": {},
   "outputs": [
    {
     "data": {
      "text/plain": [
       "{'name': 'Ali', 'subject': 'French', 'grade': 'C'}"
      ]
     },
     "execution_count": 46,
     "metadata": {},
     "output_type": "execute_result"
    }
   ],
   "source": [
    "student_grade_records[1]"
   ]
  },
  {
   "cell_type": "code",
   "execution_count": 47,
   "id": "a7dfc029",
   "metadata": {},
   "outputs": [
    {
     "data": {
      "text/plain": [
       "'C'"
      ]
     },
     "execution_count": 47,
     "metadata": {},
     "output_type": "execute_result"
    }
   ],
   "source": [
    "student_grade_records[1]['grade']"
   ]
  },
  {
   "cell_type": "code",
   "execution_count": 48,
   "id": "3ad95ac1",
   "metadata": {},
   "outputs": [
    {
     "name": "stdout",
     "output_type": "stream",
     "text": [
      "Congratulations Ahmed on getting an A in Deutsch\n",
      "Congratulations Omar on getting an A- in Italian\n"
     ]
    }
   ],
   "source": [
    "for record in student_grade_records:\n",
    "    if record['grade'].startswith('A'):\n",
    "        print('Congratulations', record['name'], \n",
    "              'on getting an', record['grade'], \n",
    "              'in', record['subject'])"
   ]
  },
  {
   "cell_type": "code",
   "execution_count": 49,
   "id": "7109b204",
   "metadata": {},
   "outputs": [
    {
     "data": {
      "text/plain": [
       "{'Ahmed': {'subject': 'Deutsch', 'grade': 'A'},\n",
       " 'Ali': {'subject': 'French', 'grade': 'C'},\n",
       " 'Ola': {'subject': 'Deutsch', 'grade': 'B+'},\n",
       " 'Omar': {'subject': 'Italian', 'grade': 'A-'}}"
      ]
     },
     "execution_count": 49,
     "metadata": {},
     "output_type": "execute_result"
    }
   ],
   "source": [
    "foreign_language_grades = {}\n",
    "for student_name, subject, grade in student_grades:\n",
    "    record = {\n",
    "        'subject': subject,\n",
    "        'grade': grade,\n",
    "    }\n",
    "    foreign_language_grades[student_name] = record\n",
    "    \n",
    "foreign_language_grades"
   ]
  },
  {
   "cell_type": "code",
   "execution_count": 50,
   "id": "eda3965c",
   "metadata": {},
   "outputs": [
    {
     "data": {
      "text/plain": [
       "{'subject': 'Deutsch', 'grade': 'A'}"
      ]
     },
     "execution_count": 50,
     "metadata": {},
     "output_type": "execute_result"
    }
   ],
   "source": [
    "foreign_language_grades['Ahmed']"
   ]
  },
  {
   "cell_type": "code",
   "execution_count": 51,
   "id": "7bec0419",
   "metadata": {},
   "outputs": [
    {
     "data": {
      "text/plain": [
       "'A'"
      ]
     },
     "execution_count": 51,
     "metadata": {},
     "output_type": "execute_result"
    }
   ],
   "source": [
    "foreign_language_grades['Ahmed']['grade']"
   ]
  },
  {
   "cell_type": "code",
   "execution_count": 52,
   "id": "ff5639c8",
   "metadata": {},
   "outputs": [
    {
     "data": {
      "text/plain": [
       "{('Ahmed', 'Deutsch'): 'A',\n",
       " ('Ali', 'French'): 'C',\n",
       " ('Ola', 'Deutsch'): 'B+',\n",
       " ('Omar', 'Italian'): 'A-'}"
      ]
     },
     "execution_count": 52,
     "metadata": {},
     "output_type": "execute_result"
    }
   ],
   "source": [
    "student_course_grades = {}\n",
    "for student_name, subject, grade in student_grades:\n",
    "    student_course_grades[student_name, subject] = grade\n",
    "    \n",
    "student_course_grades"
   ]
  },
  {
   "cell_type": "code",
   "execution_count": 53,
   "id": "913f2141",
   "metadata": {},
   "outputs": [],
   "source": [
    "student_course_grades['Ali', 'Math'] = 'A'\n",
    "student_course_grades['Ali', 'History'] = 'B'"
   ]
  },
  {
   "cell_type": "code",
   "execution_count": 54,
   "id": "c3bd967e",
   "metadata": {},
   "outputs": [
    {
     "data": {
      "text/plain": [
       "{('Ahmed', 'Deutsch'): 'A',\n",
       " ('Ali', 'French'): 'C',\n",
       " ('Ola', 'Deutsch'): 'B+',\n",
       " ('Omar', 'Italian'): 'A-',\n",
       " ('Ali', 'Math'): 'A',\n",
       " ('Ali', 'History'): 'B'}"
      ]
     },
     "execution_count": 54,
     "metadata": {},
     "output_type": "execute_result"
    }
   ],
   "source": [
    "student_course_grades"
   ]
  },
  {
   "cell_type": "code",
   "execution_count": 55,
   "id": "8a1d2476",
   "metadata": {},
   "outputs": [],
   "source": [
    "student_report_cards = {}\n",
    "for student_name, subject, grade in student_grades:\n",
    "    if student_name not in student_report_cards:\n",
    "        student_report_cards[student_name] = {}\n",
    "    student_report_cards[student_name][subject] = grade"
   ]
  },
  {
   "cell_type": "code",
   "execution_count": 56,
   "id": "034bef73",
   "metadata": {},
   "outputs": [
    {
     "data": {
      "text/plain": [
       "{'Ahmed': {'Deutsch': 'A'},\n",
       " 'Ali': {'French': 'C'},\n",
       " 'Ola': {'Deutsch': 'B+'},\n",
       " 'Omar': {'Italian': 'A-'}}"
      ]
     },
     "execution_count": 56,
     "metadata": {},
     "output_type": "execute_result"
    }
   ],
   "source": [
    "student_report_cards"
   ]
  },
  {
   "cell_type": "code",
   "execution_count": 57,
   "id": "94d922ae",
   "metadata": {},
   "outputs": [],
   "source": [
    "student_report_cards['Ali']['Math'] = 'A'\n",
    "student_report_cards['Ali']['History'] = 'B'"
   ]
  },
  {
   "cell_type": "code",
   "execution_count": 59,
   "id": "ca3880af",
   "metadata": {},
   "outputs": [
    {
     "data": {
      "text/plain": [
       "{'French': 'C', 'Math': 'A', 'History': 'B'}"
      ]
     },
     "execution_count": 59,
     "metadata": {},
     "output_type": "execute_result"
    }
   ],
   "source": [
    "student_report_cards['Ali']"
   ]
  },
  {
   "cell_type": "code",
   "execution_count": null,
   "id": "fcf3f71a",
   "metadata": {},
   "outputs": [],
   "source": []
  }
 ],
 "metadata": {
  "kernelspec": {
   "display_name": "Python 3 (ipykernel)",
   "language": "python",
   "name": "python3"
  },
  "language_info": {
   "codemirror_mode": {
    "name": "ipython",
    "version": 3
   },
   "file_extension": ".py",
   "mimetype": "text/x-python",
   "name": "python",
   "nbconvert_exporter": "python",
   "pygments_lexer": "ipython3",
   "version": "3.9.7"
  }
 },
 "nbformat": 4,
 "nbformat_minor": 5
}
