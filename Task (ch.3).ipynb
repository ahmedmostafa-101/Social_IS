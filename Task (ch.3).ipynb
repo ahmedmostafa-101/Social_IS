{
 "cells": [
  {
   "cell_type": "code",
   "execution_count": 3,
   "id": "ae682d2d",
   "metadata": {},
   "outputs": [],
   "source": [
    "import networkx as nx"
   ]
  },
  {
   "cell_type": "code",
   "execution_count": 4,
   "id": "c6c51ab8",
   "metadata": {},
   "outputs": [],
   "source": [
    "#1. Finding hubs"
   ]
  },
  {
   "cell_type": "code",
   "execution_count": 5,
   "id": "259a09a7",
   "metadata": {},
   "outputs": [
    {
     "name": "stdout",
     "output_type": "stream",
     "text": [
      "Graph with 143 nodes and 623 edges\n"
     ]
    },
    {
     "data": {
      "image/png": "[encoded data removed]",
      "text/plain": [
       "<Figure size 432x288 with 1 Axes>"
      ]
     },
     "metadata": {},
     "output_type": "display_data"
    }
   ],
   "source": [
    "G=nx.read_edgelist('../datasets/ia-enron-only.edges',nodetype=int)\n",
    "print(nx.info(G))\n",
    "nx.draw(G)"
   ]
  },
  {
   "cell_type": "code",
   "execution_count": 6,
   "id": "3e6316ae",
   "metadata": {},
   "outputs": [
    {
     "data": {
      "text/plain": [
       "5"
      ]
     },
     "execution_count": 6,
     "metadata": {},
     "output_type": "execute_result"
    }
   ],
   "source": [
    "max([1,2,3,4,5])"
   ]
  },
  {
   "cell_type": "code",
   "execution_count": 7,
   "id": "957b0760",
   "metadata": {},
   "outputs": [
    {
     "data": {
      "text/plain": [
       "'carrot'"
      ]
     },
     "execution_count": 7,
     "metadata": {},
     "output_type": "execute_result"
    }
   ],
   "source": [
    "max(['apple','grape','carrot'],key=len)"
   ]
  },
  {
   "cell_type": "code",
   "execution_count": 8,
   "id": "3f224155",
   "metadata": {},
   "outputs": [
    {
     "data": {
      "text/plain": [
       "105"
      ]
     },
     "execution_count": 8,
     "metadata": {},
     "output_type": "execute_result"
    }
   ],
   "source": [
    "max_node=max(G.nodes,key=G.degree)\n",
    "max_node"
   ]
  },
  {
   "cell_type": "code",
   "execution_count": 9,
   "id": "371eda5b",
   "metadata": {},
   "outputs": [
    {
     "data": {
      "text/plain": [
       "42"
      ]
     },
     "execution_count": 9,
     "metadata": {},
     "output_type": "execute_result"
    }
   ],
   "source": [
    "G.degree(max_node)"
   ]
  },
  {
   "cell_type": "code",
   "execution_count": 10,
   "id": "581567cf",
   "metadata": {},
   "outputs": [
    {
     "data": {
      "text/plain": [
       "105"
      ]
     },
     "execution_count": 10,
     "metadata": {},
     "output_type": "execute_result"
    }
   ],
   "source": [
    "betweenness=nx.centrality.betweenness_centrality(G)\n",
    "heighst_betweenness=max(G.nodes,key=betweenness.get)\n",
    "heighst_betweenness"
   ]
  },
  {
   "cell_type": "code",
   "execution_count": 11,
   "id": "377cec4e",
   "metadata": {},
   "outputs": [
    {
     "data": {
      "text/plain": [
       "0.19400604344556296"
      ]
     },
     "execution_count": 11,
     "metadata": {},
     "output_type": "execute_result"
    }
   ],
   "source": [
    "betweenness[heighst_betweenness]"
   ]
  },
  {
   "cell_type": "code",
   "execution_count": 12,
   "id": "2af36d2c",
   "metadata": {},
   "outputs": [],
   "source": [
    "#2. Centrality distributions"
   ]
  },
  {
   "cell_type": "code",
   "execution_count": 13,
   "id": "1f60435c",
   "metadata": {},
   "outputs": [],
   "source": [
    "degree_seq=[G.degree(n) for n in G.nodes]"
   ]
  },
  {
   "cell_type": "code",
   "execution_count": 14,
   "id": "d54f4e04",
   "metadata": {},
   "outputs": [
    {
     "name": "stdout",
     "output_type": "stream",
     "text": [
      "Mean:  8.713286713286713\n",
      "Median:  8\n"
     ]
    }
   ],
   "source": [
    "import statistics\n",
    "print ('Mean: ',statistics.mean(degree_seq))\n",
    "print('Median: ',statistics.median(degree_seq))"
   ]
  },
  {
   "cell_type": "code",
   "execution_count": 15,
   "id": "e8225cd9",
   "metadata": {},
   "outputs": [
    {
     "name": "stdout",
     "output_type": "stream",
     "text": [
      "Mean betweenness:  0.013950388838012454\n",
      "Median betweenness:  0.0037492834763570323\n"
     ]
    }
   ],
   "source": [
    "betweenness=nx.centrality.betweenness_centrality(G)\n",
    "betweenness_seq=list(betweenness.values())\n",
    "print ('Mean betweenness: ',statistics.mean(betweenness_seq))\n",
    "print('Median betweenness: ',statistics.median(betweenness_seq))\n"
   ]
  },
  {
   "cell_type": "code",
   "execution_count": 16,
   "id": "b21119fc",
   "metadata": {},
   "outputs": [
    {
     "data": {
      "text/plain": [
       "Counter({30: 1,\n",
       "         2: 16,\n",
       "         17: 5,\n",
       "         12: 5,\n",
       "         13: 3,\n",
       "         16: 5,\n",
       "         10: 9,\n",
       "         11: 10,\n",
       "         18: 3,\n",
       "         20: 1,\n",
       "         15: 3,\n",
       "         19: 2,\n",
       "         7: 9,\n",
       "         14: 6,\n",
       "         9: 16,\n",
       "         42: 1,\n",
       "         8: 6,\n",
       "         5: 8,\n",
       "         6: 7,\n",
       "         1: 6,\n",
       "         4: 11,\n",
       "         23: 1,\n",
       "         3: 9})"
      ]
     },
     "execution_count": 16,
     "metadata": {},
     "output_type": "execute_result"
    }
   ],
   "source": [
    "from collections import Counter\n",
    "deg_counts=Counter(degree_seq)\n",
    "deg_counts"
   ]
  },
  {
   "cell_type": "code",
   "execution_count": 17,
   "id": "5edd9171",
   "metadata": {},
   "outputs": [],
   "source": [
    "min_deg,max_deg=min(deg_counts.keys()),max(deg_counts.keys())\n",
    "plot_x=list(range(min_deg,max_deg+1))\n",
    "plot_y=[deg_counts.get(x,0) for x in plot_x]"
   ]
  },
  {
   "cell_type": "code",
   "execution_count": 18,
   "id": "39baf39b",
   "metadata": {},
   "outputs": [
    {
     "data": {
      "text/plain": [
       "<BarContainer object of 42 artists>"
      ]
     },
     "execution_count": 18,
     "metadata": {},
     "output_type": "execute_result"
    },
    {
     "data": {
      "image/png": "[encoded data removed]",
      "text/plain": [
       "<Figure size 432x288 with 1 Axes>"
      ]
     },
     "metadata": {
      "needs_background": "light"
     },
     "output_type": "display_data"
    }
   ],
   "source": [
    "import matplotlib.pyplot as plt\n",
    "plt.bar(plot_x,plot_y)"
   ]
  },
  {
   "cell_type": "code",
   "execution_count": 19,
   "id": "169997bf",
   "metadata": {},
   "outputs": [
    {
     "data": {
      "image/png": "[encoded data removed]",
      "text/plain": [
       "<Figure size 432x288 with 1 Axes>"
      ]
     },
     "metadata": {
      "needs_background": "light"
     },
     "output_type": "display_data"
    }
   ],
   "source": [
    "counts,bins,patches=plt.hist(betweenness_seq,bins=10)"
   ]
  },
  {
   "cell_type": "code",
   "execution_count": 20,
   "id": "9f79eb15",
   "metadata": {},
   "outputs": [
    {
     "data": {
      "text/plain": [
       "array([0.        , 0.0194006 , 0.03880121, 0.05820181, 0.07760242,\n",
       "       0.09700302, 0.11640363, 0.13580423, 0.15520483, 0.17460544,\n",
       "       0.19400604])"
      ]
     },
     "execution_count": 20,
     "metadata": {},
     "output_type": "execute_result"
    }
   ],
   "source": [
    "bins"
   ]
  },
  {
   "cell_type": "code",
   "execution_count": 21,
   "id": "21a4c65c",
   "metadata": {},
   "outputs": [
    {
     "data": {
      "text/plain": [
       "array([115.,  13.,   6.,   4.,   3.,   1.,   0.,   0.,   0.,   1.])"
      ]
     },
     "execution_count": 21,
     "metadata": {},
     "output_type": "execute_result"
    }
   ],
   "source": [
    "counts"
   ]
  },
  {
   "cell_type": "code",
   "execution_count": 22,
   "id": "f91d9cbc",
   "metadata": {},
   "outputs": [],
   "source": [
    "#3. Testing robustness"
   ]
  },
  {
   "cell_type": "code",
   "execution_count": 23,
   "id": "5986404c",
   "metadata": {},
   "outputs": [
    {
     "data": {
      "text/plain": [
       "<generator object connected_components at 0x00000271F74E24A0>"
      ]
     },
     "execution_count": 23,
     "metadata": {},
     "output_type": "execute_result"
    }
   ],
   "source": [
    "nx.connected_components(G)"
   ]
  },
  {
   "cell_type": "code",
   "execution_count": 24,
   "id": "586bf7d1",
   "metadata": {},
   "outputs": [
    {
     "data": {
      "text/plain": [
       "{1,\n",
       " 2,\n",
       " 3,\n",
       " 4,\n",
       " 5,\n",
       " 6,\n",
       " 7,\n",
       " 8,\n",
       " 9,\n",
       " 10,\n",
       " 11,\n",
       " 12,\n",
       " 13,\n",
       " 14,\n",
       " 15,\n",
       " 16,\n",
       " 17,\n",
       " 18,\n",
       " 19,\n",
       " 20,\n",
       " 21,\n",
       " 22,\n",
       " 23,\n",
       " 24,\n",
       " 25,\n",
       " 26,\n",
       " 27,\n",
       " 28,\n",
       " 29,\n",
       " 30,\n",
       " 31,\n",
       " 32,\n",
       " 33,\n",
       " 34,\n",
       " 35,\n",
       " 36,\n",
       " 37,\n",
       " 38,\n",
       " 39,\n",
       " 40,\n",
       " 41,\n",
       " 42,\n",
       " 43,\n",
       " 44,\n",
       " 45,\n",
       " 46,\n",
       " 47,\n",
       " 48,\n",
       " 49,\n",
       " 50,\n",
       " 51,\n",
       " 52,\n",
       " 53,\n",
       " 54,\n",
       " 55,\n",
       " 56,\n",
       " 57,\n",
       " 58,\n",
       " 59,\n",
       " 60,\n",
       " 61,\n",
       " 62,\n",
       " 63,\n",
       " 64,\n",
       " 65,\n",
       " 66,\n",
       " 67,\n",
       " 68,\n",
       " 69,\n",
       " 70,\n",
       " 71,\n",
       " 72,\n",
       " 73,\n",
       " 74,\n",
       " 75,\n",
       " 76,\n",
       " 77,\n",
       " 78,\n",
       " 79,\n",
       " 80,\n",
       " 81,\n",
       " 82,\n",
       " 83,\n",
       " 84,\n",
       " 85,\n",
       " 86,\n",
       " 87,\n",
       " 88,\n",
       " 89,\n",
       " 90,\n",
       " 91,\n",
       " 92,\n",
       " 93,\n",
       " 94,\n",
       " 95,\n",
       " 96,\n",
       " 97,\n",
       " 98,\n",
       " 99,\n",
       " 100,\n",
       " 101,\n",
       " 102,\n",
       " 103,\n",
       " 104,\n",
       " 105,\n",
       " 106,\n",
       " 107,\n",
       " 108,\n",
       " 109,\n",
       " 110,\n",
       " 111,\n",
       " 112,\n",
       " 113,\n",
       " 114,\n",
       " 115,\n",
       " 116,\n",
       " 117,\n",
       " 118,\n",
       " 119,\n",
       " 120,\n",
       " 121,\n",
       " 122,\n",
       " 123,\n",
       " 124,\n",
       " 125,\n",
       " 126,\n",
       " 127,\n",
       " 128,\n",
       " 129,\n",
       " 130,\n",
       " 131,\n",
       " 132,\n",
       " 133,\n",
       " 134,\n",
       " 135,\n",
       " 136,\n",
       " 137,\n",
       " 138,\n",
       " 139,\n",
       " 140,\n",
       " 141,\n",
       " 142,\n",
       " 143}"
      ]
     },
     "execution_count": 24,
     "metadata": {},
     "output_type": "execute_result"
    }
   ],
   "source": [
    "core=next(nx.connected_components(G))\n",
    "core"
   ]
  },
  {
   "cell_type": "code",
   "execution_count": 25,
   "id": "9aa9e8ff",
   "metadata": {},
   "outputs": [
    {
     "data": {
      "text/plain": [
       "143"
      ]
     },
     "execution_count": 25,
     "metadata": {},
     "output_type": "execute_result"
    }
   ],
   "source": [
    "len(core)"
   ]
  },
  {
   "cell_type": "code",
   "execution_count": 26,
   "id": "7aaae243",
   "metadata": {},
   "outputs": [],
   "source": [
    "components=list(nx.connected_components(G))"
   ]
  },
  {
   "cell_type": "code",
   "execution_count": 27,
   "id": "87bba5bb",
   "metadata": {},
   "outputs": [
    {
     "data": {
      "text/plain": [
       "1"
      ]
     },
     "execution_count": 27,
     "metadata": {},
     "output_type": "execute_result"
    }
   ],
   "source": [
    "len(components)"
   ]
  },
  {
   "cell_type": "code",
   "execution_count": 28,
   "id": "e98322ab",
   "metadata": {},
   "outputs": [],
   "source": [
    "C=G.copy()"
   ]
  },
  {
   "cell_type": "code",
   "execution_count": 29,
   "id": "4557c45a",
   "metadata": {},
   "outputs": [],
   "source": [
    "import random\n",
    "nodes_to_rmv=random.sample(list(C.nodes),2)\n",
    "C.remove_nodes_from(nodes_to_rmv)"
   ]
  },
  {
   "cell_type": "code",
   "execution_count": 42,
   "id": "09f04f6b",
   "metadata": {},
   "outputs": [
    {
     "data": {
      "text/plain": [
       "5"
      ]
     },
     "execution_count": 42,
     "metadata": {},
     "output_type": "execute_result"
    }
   ],
   "source": [
    "stps=25\n",
    "M=G.number_of_nodes()//stps\n",
    "M"
   ]
  },
  {
   "cell_type": "code",
   "execution_count": 43,
   "id": "7986e2b5",
   "metadata": {},
   "outputs": [],
   "source": [
    "num_rmv_nodes=range(0,G.number_of_nodes(),M)"
   ]
  },
  {
   "cell_type": "code",
   "execution_count": 44,
   "id": "f87b5b75",
   "metadata": {},
   "outputs": [],
   "source": [
    "N=G.number_of_nodes()\n",
    "C=G.copy()\n",
    "rndm_attack_props=[]\n",
    "for nodes_remvd in num_rmv_nodes:\n",
    "    core=next(nx.connected_components(C))\n",
    "    core_prop=len(core)/N\n",
    "    rndm_attack_props.append(core_prop)\n",
    "    if C.number_of_nodes()>M:\n",
    "        nodes_to_rmv=random.sample(list(C.nodes),M)\n",
    "        C.remove_nodes_from(nodes_to_rmv)"
   ]
  },
  {
   "cell_type": "code",
   "execution_count": 45,
   "id": "7a862bb1",
   "metadata": {},
   "outputs": [
    {
     "data": {
      "text/plain": [
       "[<matplotlib.lines.Line2D at 0x271f893b3d0>]"
      ]
     },
     "execution_count": 45,
     "metadata": {},
     "output_type": "execute_result"
    },
    {
     "data": {
      "image/png": "[encoded data removed]",
      "text/plain": [
       "<Figure size 432x288 with 1 Axes>"
      ]
     },
     "metadata": {
      "needs_background": "light"
     },
     "output_type": "display_data"
    }
   ],
   "source": [
    "plt.title('Random failure')\n",
    "plt.xlabel('Number of nodes removed')\n",
    "plt.ylabel('Proportion of nodes in core')\n",
    "plt.plot(num_rmv_nodes,rndm_attack_props, marker='o')"
   ]
  },
  {
   "cell_type": "code",
   "execution_count": 46,
   "id": "f92c2b0e",
   "metadata": {},
   "outputs": [
    {
     "data": {
      "text/plain": [
       "[105, 17, 95, 48, 132]"
      ]
     },
     "execution_count": 46,
     "metadata": {},
     "output_type": "execute_result"
    }
   ],
   "source": [
    "nodes_sorted_by_degree=sorted(G.nodes,key=G.degree,reverse=True)\n",
    "top_degree_nodes=nodes_sorted_by_degree[:M]\n",
    "top_degree_nodes "
   ]
  },
  {
   "cell_type": "code",
   "execution_count": 47,
   "id": "3639d422",
   "metadata": {},
   "outputs": [],
   "source": [
    "N=G.number_of_nodes()\n",
    "stps=25\n",
    "M=N//stps\n",
    "num_nods_rmvd=range(0,N,M)\n",
    "C=G.copy()\n",
    "targtd_attack_props=[]\n",
    "for nodes_rmvd in num_nods_rmvd:\n",
    "    core=next(nx.connected_components(C))\n",
    "    core_prop=len(core) / N\n",
    "    targtd_attack_props.append(core_prop)\n",
    "    if C.number_of_nodes()>M:\n",
    "        nodes_sorted_by_degree=sorted(C.nodes,key=C.degree,reverse=True)\n",
    "        nodes_to_rmv=nodes_sorted_by_degree[:M]\n",
    "        C.remove_nodes_from(nodes_to_rmv)"
   ]
  },
  {
   "cell_type": "code",
   "execution_count": 48,
   "id": "ea41cc32",
   "metadata": {},
   "outputs": [
    {
     "data": {
      "text/plain": [
       "[<matplotlib.lines.Line2D at 0x271f99b92b0>]"
      ]
     },
     "execution_count": 48,
     "metadata": {},
     "output_type": "execute_result"
    },
    {
     "data": {
      "image/png": "[encoded data removed]",
      "text/plain": [
       "<Figure size 432x288 with 1 Axes>"
      ]
     },
     "metadata": {
      "needs_background": "light"
     },
     "output_type": "display_data"
    }
   ],
   "source": [
    "plt.title('Targeted attack')\n",
    "plt.xlabel('Number of nodes removed')\n",
    "plt.ylabel('Proportion of nodes in core')\n",
    "plt.plot(num_nods_rmvd,targtd_attack_props,marker='o')"
   ]
  },
  {
   "cell_type": "code",
   "execution_count": 49,
   "id": "f52d7137",
   "metadata": {},
   "outputs": [
    {
     "data": {
      "text/plain": [
       "<matplotlib.legend.Legend at 0x271f99cfcd0>"
      ]
     },
     "execution_count": 49,
     "metadata": {},
     "output_type": "execute_result"
    },
    {
     "data": {
      "image/png": "[encoded data removed]",
      "text/plain": [
       "<Figure size 432x288 with 1 Axes>"
      ]
     },
     "metadata": {
      "needs_background": "light"
     },
     "output_type": "display_data"
    }
   ],
   "source": [
    "plt.title('Random failure vs. targeted attack')\n",
    "plt.xlabel('Number of nodes removed')\n",
    "plt.ylabel('Proportion of nodes in core')\n",
    "plt.plot(num_rmv_nodes,rndm_attack_props, marker='o', label='Failures')\n",
    "plt.plot(num_nods_rmvd,targtd_attack_props,marker='^', label='Attacks')\n",
    "plt.legend()"
   ]
  },
  {
   "cell_type": "code",
   "execution_count": null,
   "id": "cd90c77b",
   "metadata": {},
   "outputs": [],
   "source": []
  }
 ],
 "metadata": {
  "kernelspec": {
   "display_name": "Python 3 (ipykernel)",
   "language": "python",
   "name": "python3"
  },
  "language_info": {
   "codemirror_mode": {
    "name": "ipython",
    "version": 3
   },
   "file_extension": ".py",
   "mimetype": "text/x-python",
   "name": "python",
   "nbconvert_exporter": "python",
   "pygments_lexer": "ipython3",
   "version": "3.9.7"
  }
 },
 "nbformat": 4,
 "nbformat_minor": 5
}
